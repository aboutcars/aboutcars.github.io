{
 "cells": [
  {
   "cell_type": "code",
   "execution_count": 13,
   "metadata": {},
   "outputs": [],
   "source": [
    "files = !ls *.json"
   ]
  },
  {
   "cell_type": "code",
   "execution_count": 63,
   "metadata": {},
   "outputs": [],
   "source": [
    "def convert(j):\n",
    "    result = []\n",
    "    temp = []\n",
    "    \n",
    "    for v in j:\n",
    "        if len(temp) == 0:\n",
    "            temp.append(v)\n",
    "        elif v[0] == temp[-1][0] + 1 and v[1] == temp[-1][1]:\n",
    "            temp.append(v)\n",
    "        else:\n",
    "            if len(temp) == 1:\n",
    "                result.append(['W', temp[-1][0], temp[-1][1]])\n",
    "            else:\n",
    "                result.append(['WI', [temp[0][0], temp[-1][0]], temp[-1][1]])\n",
    "            \n",
    "            temp = []\n",
    "            temp.append(v)\n",
    "\n",
    "    if len(temp) != 0:\n",
    "        result.append(['WI', [temp[0][0], temp[-1][0]], temp[-1][1]])\n",
    "            \n",
    "    return result"
   ]
  },
  {
   "cell_type": "code",
   "execution_count": 67,
   "metadata": {},
   "outputs": [],
   "source": [
    "result = []\n",
    "for file in files:\n",
    "    data = file.split(' - ')\n",
    "    just2 = open(file).read()\n",
    "    just = eval('[]' if len(just2) == 1 else just2)\n",
    "    single = {\n",
    "        \"brand\": data[0],\n",
    "        \"model\": data[1],\n",
    "        \"info\": data[2],\n",
    "        \"ci\": data[3][:-5],\n",
    "        \"seq\": convert(just)\n",
    "    }\n",
    "    \n",
    "    result.append(single)"
   ]
  },
  {
   "cell_type": "code",
   "execution_count": 74,
   "metadata": {},
   "outputs": [
    {
     "data": {
      "text/plain": [
       "{'brand': 'OPEL',\n",
       " 'model': 'OPEL Zafira',\n",
       " 'info': 'Temic 13 137 907',\n",
       " 'ci': 'MP 9S12DG128E',\n",
       " 'seq': [['W', 0, 0], ['WI', [32, 447], 255], ['WI', [543, 875], 255]]}"
      ]
     },
     "execution_count": 74,
     "metadata": {},
     "output_type": "execute_result"
    }
   ],
   "source": [
    "result[-550]"
   ]
  },
  {
   "cell_type": "code",
   "execution_count": 75,
   "metadata": {},
   "outputs": [],
   "source": [
    "import json\n",
    "with open('data.json', 'w') as f:\n",
    "    json.dump(result, f)"
   ]
  },
  {
   "cell_type": "code",
   "execution_count": 39,
   "metadata": {},
   "outputs": [
    {
     "data": {
      "text/plain": [
       "[['R', [32, 47], 0]]"
      ]
     },
     "execution_count": 39,
     "metadata": {},
     "output_type": "execute_result"
    }
   ],
   "source": [
    "convert(just)"
   ]
  },
  {
   "cell_type": "code",
   "execution_count": 118,
   "metadata": {},
   "outputs": [],
   "source": [
    "def search_test(s):\n",
    "    s = s.lower().replace('-', ' ').replace(' ', '')\n",
    "    r = []\n",
    "    for v in result:\n",
    "        if s in v['brand'].lower().replace('-', ' ').replace(' ', '') or s in v['model'].lower().replace('-', ' ').replace(' ', '') or s in v['info'].lower().replace('-', ' ').replace(' ', ''):\n",
    "            r.append(v)\n",
    "            \n",
    "    print(r[:20])"
   ]
  },
  {
   "cell_type": "code",
   "execution_count": 123,
   "metadata": {},
   "outputs": [
    {
     "name": "stdout",
     "output_type": "stream",
     "text": [
      "[{'brand': 'OPEL', 'model': 'OPEL Meriva', 'info': 'Temic 13 158 712 ZJ', 'ci': 'MP 68HC08AZ32', 'seq': [['WI', [185, 259], 255], ['W', 260, 0], ['WI', [261, 311], 255], ['W', 312, 240], ['WI', [313, 431], 255]]}, {'brand': 'OPEL', 'model': 'OPEL Meriva', 'info': 'Temic 13 158 712 ZJ V2', 'ci': 'MP 68HC08AZ32', 'seq': [['WI', [185, 399], 255]]}, {'brand': 'OPEL', 'model': 'OPEL Meriva', 'info': 'Temic 13 158 713', 'ci': 'MP 68HC08AZ32', 'seq': [['WI', [185, 259], 255], ['W', 260, 0], ['WI', [261, 311], 255], ['W', 312, 240], ['WI', [313, 431], 255]]}, {'brand': 'OPEL', 'model': 'OPEL Meriva', 'info': 'Temic 13 203 620', 'ci': 'MP 68HC08AZ32', 'seq': [['WI', [185, 259], 255], ['W', 260, 0], ['WI', [261, 311], 255], ['W', 312, 240], ['WI', [313, 431], 255]]}, {'brand': 'OPEL', 'model': 'OPEL Meriva', 'info': 'Temic 13 259 917', 'ci': 'MP 68HC08AZ32', 'seq': [['WI', [185, 259], 255], ['W', 260, 0], ['WI', [261, 311], 255], ['WI', [312, 328], 240], ['WI', [329, 431], 255]]}, {'brand': 'OPEL', 'model': 'OPEL Meriva', 'info': 'Temic 24 439 954', 'ci': 'MP 68HC08AZ32', 'seq': [['WI', [2233, 2463], 255]]}]\n"
     ]
    }
   ],
   "source": [
    "search_test('meriva')"
   ]
  },
  {
   "cell_type": "code",
   "execution_count": null,
   "metadata": {},
   "outputs": [],
   "source": []
  }
 ],
 "metadata": {
  "kernelspec": {
   "display_name": "Python 3",
   "language": "python",
   "name": "python3"
  },
  "language_info": {
   "codemirror_mode": {
    "name": "ipython",
    "version": 3
   },
   "file_extension": ".py",
   "mimetype": "text/x-python",
   "name": "python",
   "nbconvert_exporter": "python",
   "pygments_lexer": "ipython3",
   "version": "3.9.1"
  }
 },
 "nbformat": 4,
 "nbformat_minor": 4
}
